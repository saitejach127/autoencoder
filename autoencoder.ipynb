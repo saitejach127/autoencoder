{
  "nbformat": 4,
  "nbformat_minor": 0,
  "metadata": {
    "colab": {
      "name": "autoencoder.ipynb",
      "version": "0.3.2",
      "provenance": [],
      "collapsed_sections": [],
      "toc_visible": true
    },
    "kernelspec": {
      "name": "python3",
      "display_name": "Python 3"
    },
    "accelerator": "TPU"
  },
  "cells": [
    {
      "metadata": {
        "id": "jFst7PNcZ_qb",
        "colab_type": "code",
        "colab": {}
      },
      "cell_type": "code",
      "source": [
        "from keras.models import Sequential\n",
        "from keras.layers import Dense\n",
        "from keras import backend as k\n",
        "import numpy as np"
      ],
      "execution_count": 0,
      "outputs": []
    },
    {
      "metadata": {
        "id": "F6W3w7V2rUpl",
        "colab_type": "text"
      },
      "cell_type": "markdown",
      "source": [
        "**Making the Model**"
      ]
    },
    {
      "metadata": {
        "id": "gcSQVp4KaONE",
        "colab_type": "code",
        "colab": {}
      },
      "cell_type": "code",
      "source": [
        "model = Sequential()\n",
        "model.add(Dense(128, input_shape=(784,), activation='relu'))\n",
        "model.add(Dense(32, activation='relu'))\n",
        "model.add(Dense(32, activation='relu'))\n",
        "model.add(Dense(128, activation='relu'))\n",
        "model.add(Dense(784, activation='relu'))\n"
      ],
      "execution_count": 0,
      "outputs": []
    },
    {
      "metadata": {
        "id": "iaPcqj69rajK",
        "colab_type": "text"
      },
      "cell_type": "markdown",
      "source": [
        "*Summary of the Model*"
      ]
    },
    {
      "metadata": {
        "id": "PGReeRVrb4pk",
        "colab_type": "code",
        "colab": {
          "base_uri": "https://localhost:8080/",
          "height": 306
        },
        "outputId": "b254dc2a-d055-40da-9c6b-41abdc49a83b"
      },
      "cell_type": "code",
      "source": [
        "model.summary()"
      ],
      "execution_count": 26,
      "outputs": [
        {
          "output_type": "stream",
          "text": [
            "_________________________________________________________________\n",
            "Layer (type)                 Output Shape              Param #   \n",
            "=================================================================\n",
            "dense_7 (Dense)              (None, 128)               100480    \n",
            "_________________________________________________________________\n",
            "dense_8 (Dense)              (None, 32)                4128      \n",
            "_________________________________________________________________\n",
            "dense_9 (Dense)              (None, 32)                1056      \n",
            "_________________________________________________________________\n",
            "dense_10 (Dense)             (None, 128)               4224      \n",
            "_________________________________________________________________\n",
            "dense_11 (Dense)             (None, 784)               101136    \n",
            "=================================================================\n",
            "Total params: 211,024\n",
            "Trainable params: 211,024\n",
            "Non-trainable params: 0\n",
            "_________________________________________________________________\n"
          ],
          "name": "stdout"
        }
      ]
    },
    {
      "metadata": {
        "id": "sHQWU3_xrfch",
        "colab_type": "text"
      },
      "cell_type": "markdown",
      "source": [
        "**Data Preprocessing**"
      ]
    },
    {
      "metadata": {
        "id": "dLqdBB-hb6w4",
        "colab_type": "code",
        "colab": {}
      },
      "cell_type": "code",
      "source": [
        "from keras.datasets import mnist\n",
        "(x_train, _),(x_test, _) = mnist.load_data()\n",
        "x_train = x_train/255\n",
        "x_test = x_test/255\n",
        "x_train = x_train.reshape((len(x_train), 784))\n",
        "x_test = x_test.reshape((len(x_test), 784))"
      ],
      "execution_count": 0,
      "outputs": []
    },
    {
      "metadata": {
        "id": "1sE6i37srj92",
        "colab_type": "text"
      },
      "cell_type": "markdown",
      "source": [
        "**Compiling and Training**"
      ]
    },
    {
      "metadata": {
        "id": "wlgGqGHedRij",
        "colab_type": "code",
        "colab": {
          "base_uri": "https://localhost:8080/",
          "height": 374
        },
        "outputId": "9cee2f6f-01b7-4391-f924-a3307f0c15da"
      },
      "cell_type": "code",
      "source": [
        "model.compile(optimizer='Adam', loss='categorical_crossentropy')\n",
        "model.fit(x_train,x_train, epochs=10)"
      ],
      "execution_count": 33,
      "outputs": [
        {
          "output_type": "stream",
          "text": [
            "Epoch 1/10\n",
            "60000/60000 [==============================] - 18s 301us/step - loss: 718.3392\n",
            "Epoch 2/10\n",
            "60000/60000 [==============================] - 19s 320us/step - loss: 695.0241\n",
            "Epoch 3/10\n",
            "60000/60000 [==============================] - 18s 293us/step - loss: 693.9465\n",
            "Epoch 4/10\n",
            "60000/60000 [==============================] - 18s 302us/step - loss: 683.8231\n",
            "Epoch 5/10\n",
            "60000/60000 [==============================] - 18s 302us/step - loss: 682.7320\n",
            "Epoch 6/10\n",
            "60000/60000 [==============================] - 18s 298us/step - loss: 677.0353\n",
            "Epoch 7/10\n",
            "60000/60000 [==============================] - 18s 294us/step - loss: 673.8667\n",
            "Epoch 8/10\n",
            "60000/60000 [==============================] - 18s 299us/step - loss: 667.4169\n",
            "Epoch 9/10\n",
            "60000/60000 [==============================] - 18s 300us/step - loss: 665.9437\n",
            "Epoch 10/10\n",
            "60000/60000 [==============================] - 18s 297us/step - loss: 664.9598\n"
          ],
          "name": "stdout"
        },
        {
          "output_type": "execute_result",
          "data": {
            "text/plain": [
              "<keras.callbacks.History at 0x7fe6dfff9518>"
            ]
          },
          "metadata": {
            "tags": []
          },
          "execution_count": 33
        }
      ]
    },
    {
      "metadata": {
        "id": "qmUFB3X_dp3U",
        "colab_type": "code",
        "colab": {}
      },
      "cell_type": "code",
      "source": [
        "from tensorflow.keras.datasets import mnist\n",
        "(x_train, _), (x_test, _) = mnist.load_data()\n",
        "x_train, x_test = x_train/255, x_test/255\n"
      ],
      "execution_count": 0,
      "outputs": []
    },
    {
      "metadata": {
        "id": "6hxzQ4K-lvma",
        "colab_type": "code",
        "colab": {}
      },
      "cell_type": "code",
      "source": [
        "from matplotlib import pyplot as plt"
      ],
      "execution_count": 0,
      "outputs": []
    },
    {
      "metadata": {
        "id": "l_wozTNyrqA0",
        "colab_type": "text"
      },
      "cell_type": "markdown",
      "source": [
        "**Predicting the Model**"
      ]
    },
    {
      "metadata": {
        "id": "rdhXRoyR6BrN",
        "colab_type": "code",
        "colab": {}
      },
      "cell_type": "code",
      "source": [
        "def prediction(image):\n",
        "  image = image.reshape(1,784)\n",
        "  predict = model.predict(image)\n",
        "  plt.imshow(predict.reshape(28,28))\n",
        "  \n",
        "  "
      ],
      "execution_count": 0,
      "outputs": []
    },
    {
      "metadata": {
        "id": "JdvTPSMVrtpi",
        "colab_type": "text"
      },
      "cell_type": "markdown",
      "source": [
        "**Outputs**"
      ]
    },
    {
      "metadata": {
        "id": "9JIWfNEMmazW",
        "colab_type": "code",
        "colab": {
          "base_uri": "https://localhost:8080/",
          "height": 347
        },
        "outputId": "c0f0f794-daf1-41aa-c014-c7b8efc19cd1"
      },
      "cell_type": "code",
      "source": [
        "img = x_test[0]\n",
        "prediction(img)"
      ],
      "execution_count": 37,
      "outputs": [
        {
          "output_type": "display_data",
          "data": {
            "image/png": "[encoded data removed]",
            "text/plain": [
              "<matplotlib.figure.Figure at 0x7fe6dfa25358>"
            ]
          },
          "metadata": {
            "tags": []
          }
        }
      ]
    },
    {
      "metadata": {
        "id": "zVmys5EKm1bN",
        "colab_type": "code",
        "colab": {
          "base_uri": "https://localhost:8080/",
          "height": 364
        },
        "outputId": "35e7a9d1-2b1b-47ed-c483-8730254d0b2f"
      },
      "cell_type": "code",
      "source": [
        "plt.imshow(x_test[1])"
      ],
      "execution_count": 38,
      "outputs": [
        {
          "output_type": "execute_result",
          "data": {
            "text/plain": [
              "<matplotlib.image.AxesImage at 0x7fe6dfa4f9e8>"
            ]
          },
          "metadata": {
            "tags": []
          },
          "execution_count": 38
        },
        {
          "output_type": "display_data",
          "data": {
            "image/png": "[encoded data removed]",
            "text/plain": [
              "<matplotlib.figure.Figure at 0x7fe6dfa2d2b0>"
            ]
          },
          "metadata": {
            "tags": []
          }
        }
      ]
    },
    {
      "metadata": {
        "id": "xQ2sSOiLm-2t",
        "colab_type": "code",
        "colab": {
          "base_uri": "https://localhost:8080/",
          "height": 364
        },
        "outputId": "2ef1f1ba-644b-4379-e425-61b4c1b5ca0d"
      },
      "cell_type": "code",
      "source": [
        "plt.imshow(model.predict(x_test[1].reshape(1,784)).reshape(28,28))"
      ],
      "execution_count": 39,
      "outputs": [
        {
          "output_type": "execute_result",
          "data": {
            "text/plain": [
              "<matplotlib.image.AxesImage at 0x7fe6df1f7588>"
            ]
          },
          "metadata": {
            "tags": []
          },
          "execution_count": 39
        },
        {
          "output_type": "display_data",
          "data": {
            "image/png": "[encoded data removed]",
            "text/plain": [
              "<matplotlib.figure.Figure at 0x7fe6dfa3ba90>"
            ]
          },
          "metadata": {
            "tags": []
          }
        }
      ]
    },
    {
      "metadata": {
        "id": "z-0X2SFbnG6a",
        "colab_type": "code",
        "colab": {}
      },
      "cell_type": "code",
      "source": [
        ""
      ],
      "execution_count": 0,
      "outputs": []
    }
  ]
}